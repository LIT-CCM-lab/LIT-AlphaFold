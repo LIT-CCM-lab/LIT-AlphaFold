{
 "cells": [
  {
   "cell_type": "markdown",
   "id": "4d6f9f8a-d087-4aa9-bf0a-4d939ac3f9b2",
   "metadata": {},
   "source": [
    "# LIT-AF_Cluster\n",
    "\n",
    "> **_NOTE:_** This method has not been fully tested, we advise the users to proceed with caution. Please report any issue with the code to the developers.\n",
    "\n",
    "This notebook is an implementation of AF_Cluster for the LIT-AlphaFold pipeline.\n",
    "\n",
    "MSA clustering is performed, generating a new MonomericObject for each cluster. The newly generated objects can be used by LIT-ALphaFold for calculation.\n",
    "\n",
    "This notebook has been developed for local use, and it requires first to generate a *.pkl* MonomericObject file with the script *create_individual_features.py*."
   ]
  },
  {
   "cell_type": "markdown",
   "id": "740e2abd-fb4f-4aef-9e3d-43f1ba059497",
   "metadata": {},
   "source": [
    "## Input"
   ]
  },
  {
   "cell_type": "code",
   "execution_count": 1,
   "id": "cc2724da-0f4d-40b0-a745-0755d6a678e5",
   "metadata": {},
   "outputs": [],
   "source": [
    "pkl_folder = '' #Path to contain the folder with the pregenerated pkl file for the target protein\n",
    "pkl_file = '' #Pickle file of the target protein\n",
    "output_dir = '.' #Output direcotry where to save the genereated MonomericObjects\n",
    "\n",
    "projection_method = 'PCA' #Choose projection method between PCA and TSNE\n",
    "show_msa = True #Show the MSA of the input monomer and the clustered MSAs\n",
    "show_proj = True #Show the projection of the MSA for the input monomer"
   ]
  },
  {
   "cell_type": "code",
   "execution_count": 2,
   "id": "6d465725-2770-489d-8740-ae63a6c5b7c2",
   "metadata": {
    "collapsed": true,
    "jupyter": {
     "outputs_hidden": true,
     "source_hidden": true
    }
   },
   "outputs": [
    {
     "name": "stderr",
     "output_type": "stream",
     "text": [
      "2024-02-08 12:58:08.938425: E external/local_xla/xla/stream_executor/cuda/cuda_dnn.cc:9261] Unable to register cuDNN factory: Attempting to register factory for plugin cuDNN when one has already been registered\n",
      "2024-02-08 12:58:08.938462: E external/local_xla/xla/stream_executor/cuda/cuda_fft.cc:607] Unable to register cuFFT factory: Attempting to register factory for plugin cuFFT when one has already been registered\n",
      "2024-02-08 12:58:08.939319: E external/local_xla/xla/stream_executor/cuda/cuda_blas.cc:1515] Unable to register cuBLAS factory: Attempting to register factory for plugin cuBLAS when one has already been registered\n",
      "2024-02-08 12:58:09.580439: W tensorflow/compiler/tf2tensorrt/utils/py_utils.cc:38] TF-TRT Warning: Could not find TensorRT\n"
     ]
    },
    {
     "ename": "FileNotFoundError",
     "evalue": "[Errno 2] No such file or directory: 'CXCL12.pkl'",
     "output_type": "error",
     "traceback": [
      "\u001b[0;31m---------------------------------------------------------------------------\u001b[0m",
      "\u001b[0;31mFileNotFoundError\u001b[0m                         Traceback (most recent call last)",
      "Cell \u001b[0;32mIn[2], line 11\u001b[0m\n\u001b[1;32m      8\u001b[0m \u001b[38;5;28;01mimport\u001b[39;00m \u001b[38;5;21;01mpickle\u001b[39;00m\n\u001b[1;32m      9\u001b[0m get_ipython()\u001b[38;5;241m.\u001b[39mrun_line_magic(\u001b[38;5;124m'\u001b[39m\u001b[38;5;124mmatplotlib\u001b[39m\u001b[38;5;124m'\u001b[39m, \u001b[38;5;124m'\u001b[39m\u001b[38;5;124minline\u001b[39m\u001b[38;5;124m'\u001b[39m)\n\u001b[0;32m---> 11\u001b[0m monomer \u001b[38;5;241m=\u001b[39m \u001b[43mload_monomer_objects\u001b[49m\u001b[43m(\u001b[49m\u001b[43m{\u001b[49m\u001b[43mpkl_file\u001b[49m\u001b[43m:\u001b[49m\u001b[43m \u001b[49m\u001b[43mpkl_folder\u001b[49m\u001b[43m}\u001b[49m\u001b[43m,\u001b[49m\u001b[43m \u001b[49m\u001b[43mpkl_file\u001b[49m\u001b[43m[\u001b[49m\u001b[43m:\u001b[49m\u001b[38;5;241;43m-\u001b[39;49m\u001b[38;5;241;43m4\u001b[39;49m\u001b[43m]\u001b[49m\u001b[43m)\u001b[49m\n\u001b[1;32m     12\u001b[0m \u001b[38;5;28mprint\u001b[39m(\u001b[38;5;124mf\u001b[39m\u001b[38;5;124m\"\u001b[39m\u001b[38;5;124mMonomer unit \u001b[39m\u001b[38;5;132;01m{\u001b[39;00mmonomer\u001b[38;5;241m.\u001b[39mdescription\u001b[38;5;132;01m}\u001b[39;00m\u001b[38;5;124m created\u001b[39m\u001b[38;5;124m\"\u001b[39m)\n\u001b[1;32m     13\u001b[0m \u001b[38;5;28;01mif\u001b[39;00m show_msa:\n",
      "File \u001b[0;32m~/miniconda3/envs/litaf-pub/lib/python3.10/site-packages/alphapulldown/utils.py:122\u001b[0m, in \u001b[0;36mload_monomer_objects\u001b[0;34m(monomer_dir_dict, protein_name)\u001b[0m\n\u001b[1;32m    120\u001b[0m target_path \u001b[38;5;241m=\u001b[39m monomer_dir_dict[\u001b[38;5;124mf\u001b[39m\u001b[38;5;124m\"\u001b[39m\u001b[38;5;132;01m{\u001b[39;00mprotein_name\u001b[38;5;132;01m}\u001b[39;00m\u001b[38;5;124m.pkl\u001b[39m\u001b[38;5;124m\"\u001b[39m]\n\u001b[1;32m    121\u001b[0m target_path \u001b[38;5;241m=\u001b[39m os\u001b[38;5;241m.\u001b[39mpath\u001b[38;5;241m.\u001b[39mjoin(target_path, \u001b[38;5;124mf\u001b[39m\u001b[38;5;124m\"\u001b[39m\u001b[38;5;132;01m{\u001b[39;00mprotein_name\u001b[38;5;132;01m}\u001b[39;00m\u001b[38;5;124m.pkl\u001b[39m\u001b[38;5;124m\"\u001b[39m)\n\u001b[0;32m--> 122\u001b[0m monomer \u001b[38;5;241m=\u001b[39m pickle\u001b[38;5;241m.\u001b[39mload(\u001b[38;5;28;43mopen\u001b[39;49m\u001b[43m(\u001b[49m\u001b[43mtarget_path\u001b[49m\u001b[43m,\u001b[49m\u001b[43m \u001b[49m\u001b[38;5;124;43m\"\u001b[39;49m\u001b[38;5;124;43mrb\u001b[39;49m\u001b[38;5;124;43m\"\u001b[39;49m\u001b[43m)\u001b[49m)\n\u001b[1;32m    123\u001b[0m \u001b[38;5;28;01mif\u001b[39;00m check_empty_templates(monomer\u001b[38;5;241m.\u001b[39mfeature_dict):\n\u001b[1;32m    124\u001b[0m     monomer\u001b[38;5;241m.\u001b[39mfeature_dict \u001b[38;5;241m=\u001b[39m mk_mock_template(monomer\u001b[38;5;241m.\u001b[39mfeature_dict)\n",
      "\u001b[0;31mFileNotFoundError\u001b[0m: [Errno 2] No such file or directory: 'CXCL12.pkl'"
     ]
    }
   ],
   "source": [
    "from litaf.objects import MonomericObjectMmseqs2, MonomericObject, load_monomer_objects\n",
    "from colabfold.plot import plot_msa_v2\n",
    "import matplotlib.pyplot as plt\n",
    "import os\n",
    "import copy\n",
    "import numpy as np\n",
    "import pickle\n",
    "%matplotlib inline\n",
    "\n",
    "monomer = load_monomer_objects({pkl_file.split('.')[0]: pkl_folder}, pkl_file.split('.')[0])\n",
    "print(f\"Monomer unit {monomer.description} created\")\n",
    "if show_msa:\n",
    "    plot_msa_v2(monomer.feature_dict)\n",
    "    plt.show()\n",
    "    plt.close()\n",
    "if show_proj:\n",
    "    monomer.plot_msa_proj(method = projection_method)\n",
    "    plt.show()\n",
    "    plt.close()"
   ]
  },
  {
   "cell_type": "markdown",
   "id": "9131f8ba-15ca-4b82-82eb-0bace10b7bfd",
   "metadata": {},
   "source": [
    "## Cluster generation\n",
    "AF_Cluster uses DBSCAN to cluster the MSA. To perform clustering set the values for eps (the maximum distance between two samples for one to be considered as in the neighborhood of the other) and min_samples (the number of samples in a neighborhood for a point to be considered as a core point).\n",
    "For more information about DBSCAN please refer to the scikit-learn documentation (https://scikit-learn.org/stable/modules/generated/sklearn.cluster.DBSCAN.html)"
   ]
  },
  {
   "cell_type": "code",
   "execution_count": null,
   "id": "8b9d01a9-e137-45b9-bf90-6c78990367c3",
   "metadata": {},
   "outputs": [],
   "source": [
    "eps = 5\n",
    "min_samples = 50"
   ]
  },
  {
   "cell_type": "code",
   "execution_count": null,
   "id": "0d120e80-2ea6-48ab-8b77-4cd0ad403a55",
   "metadata": {
    "collapsed": true,
    "jupyter": {
     "outputs_hidden": true,
     "source_hidden": true
    }
   },
   "outputs": [],
   "source": [
    "new_monomers = {}\n",
    "new_feature_dicts = monomer.cluster_msa(eps, 50)\n",
    "for i, feat_dict in new_feature_dicts.items():\n",
    "    new_monomers[f'{monomer.description}_{i}'] = copy.deepcopy(monomer)\n",
    "    new_monomers[f'{monomer.description}_{i}'].feature_dict = feat_dict\n",
    "    new_monomers[f'{monomer.description}_{i}'].description = f'{monomer.description}_cluster_{i}'\n",
    "    print(f\"Monomer unit {monomer.description}_{i} created\")\n",
    "    if show_msa:\n",
    "        %matplotlib inline \n",
    "        plot_features = new_monomers[f'{monomer.description}_{i}'].feature_dict.copy()\n",
    "        plot_features['msa'] = np.concatenate([[monomer.feature_dict['msa'][0]],\n",
    "                                    plot_features['msa']])\n",
    "        plot_msa_v2(plot_features)\n",
    "        plt.show()\n",
    "        plt.close()\n",
    "monomer.plot_msa_proj(method = projection_method)"
   ]
  },
  {
   "cell_type": "markdown",
   "id": "ff7b6d90-335c-4027-8243-4d57f7e8d0c1",
   "metadata": {},
   "source": [
    "## Save results"
   ]
  },
  {
   "cell_type": "code",
   "execution_count": null,
   "id": "58230534-d3a6-4cd6-af21-48edc8f6d4aa",
   "metadata": {
    "collapsed": true,
    "jupyter": {
     "outputs_hidden": true,
     "source_hidden": true
    }
   },
   "outputs": [],
   "source": [
    "for nmonomer in new_monomers.values():\n",
    "    output_file = os.path.join(output_dir, nmonomer.description)\n",
    "    pickle.dump(nmonomer, open(f\"{output_file}.pkl\", \"wb\"))"
   ]
  }
 ],
 "metadata": {
  "kernelspec": {
   "display_name": "Python 3 (ipykernel)",
   "language": "python",
   "name": "python3"
  },
  "language_info": {
   "codemirror_mode": {
    "name": "ipython",
    "version": 3
   },
   "file_extension": ".py",
   "mimetype": "text/x-python",
   "name": "python",
   "nbconvert_exporter": "python",
   "pygments_lexer": "ipython3",
   "version": "3.10.14"
  }
 },
 "nbformat": 4,
 "nbformat_minor": 5
}
